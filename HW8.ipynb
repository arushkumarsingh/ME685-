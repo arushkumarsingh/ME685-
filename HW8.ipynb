{
 "cells": [
  {
   "cell_type": "markdown",
   "metadata": {},
   "source": [
    "# Program for HW8\n",
    "\n",
    "HW - 8\n",
    "\n",
    "Name: Arush Kumar Singh\n",
    "\n",
    "Roll No: 190182\n"
   ]
  },
  {
   "cell_type": "code",
   "execution_count": 256,
   "metadata": {},
   "outputs": [],
   "source": [
    "#importing libraries \n",
    "import numpy as np\n",
    "import math\n",
    "import sys\n",
    "import sympy as sym\n",
    "from sympy import symbols, exp\n",
    "import matplotlib.pyplot as plt \n",
    "\n",
    "%matplotlib inline\n",
    "\n",
    "#setting precision upto10 digits\n",
    "np.set_printoptions(precision=10)\n",
    "np.set_printoptions(suppress=True)"
   ]
  },
  {
   "cell_type": "code",
   "execution_count": 257,
   "metadata": {},
   "outputs": [],
   "source": [
    "#input parameters\n",
    "n = 763                                           #total population \n",
    "i0 = 1                                            #initial infected population\n",
    "R0 = 3.65                                          #reproductive ratio \n",
    "beta = 1.66                                       #transmission rate \n",
    "h  = 0.25                                         #step size "
   ]
  },
  {
   "cell_type": "code",
   "execution_count": 258,
   "metadata": {},
   "outputs": [
    {
     "data": {
      "text/plain": [
       "0.9986893840104849"
      ]
     },
     "execution_count": 258,
     "metadata": {},
     "output_type": "execute_result"
    }
   ],
   "source": [
    "#calculating other parameters \n",
    "\n",
    "gamma = beta/R0                                    #recovery rate\n",
    "i0 = 1/n                                          #non dim initial infected population \n",
    "s0 = (1 - i0)                                     #initial suseptive population \n",
    "r0 = 0                                            #initial recovered population \n",
    "s0"
   ]
  },
  {
   "cell_type": "code",
   "execution_count": 259,
   "metadata": {},
   "outputs": [],
   "source": [
    "# creating an array of time with step size h\n",
    "step = 100                                       # t = 0 to 100*h = 25days\n",
    "arr = np.zeros(step)\n",
    "gp = 0\n",
    "for j in range(step):\n",
    "    arr[j] = gp\n",
    "    gp = gp + h\n",
    "\n",
    "#creating arrays of SIR to store the values \n",
    "S = np.zeros(step)\n",
    "I = np.zeros(step)\n",
    "R = np.zeros(step)\n",
    "S[0] = s0\n",
    "I[0] = i0\n",
    "R[0] = r0"
   ]
  },
  {
   "cell_type": "code",
   "execution_count": 260,
   "metadata": {},
   "outputs": [],
   "source": [
    "#initialising variable\n",
    "s = symbols('s')                                       # suseptible population\n",
    "i = symbols('i')                                       # infected population\n",
    "r = symbols('r')                                       # recovered population \n",
    "k = symbols('k')                                       # general function for S\n",
    "l = symbols('l')                                       # general function for I\n",
    "m = symbols('m')                                       # general function for R \n",
    "t = symbols('t')                                       # time "
   ]
  },
  {
   "cell_type": "code",
   "execution_count": 261,
   "metadata": {},
   "outputs": [
    {
     "name": "stdout",
     "output_type": "stream",
     "text": [
      "-1.66*i*s \n",
      " 1.66*i*s - 0.454794520547945*i \n",
      " 0.454794520547945*i\n"
     ]
    }
   ],
   "source": [
    "# initialising the S I R diffrential equations \n",
    "k = -beta*s*i\n",
    "l = beta*s*i - gamma*i\n",
    "m = gamma*i\n",
    "print(k, '\\n',l, '\\n',m)"
   ]
  },
  {
   "cell_type": "code",
   "execution_count": 262,
   "metadata": {},
   "outputs": [],
   "source": [
    "#SIR Algorithm\n",
    "\n",
    "for j in range(step-1):\n",
    "    k1 = k.subs({s:S[j], i:I[j]})\n",
    "    l1 = l.subs({s:S[j], i:I[j]})\n",
    "    m1 = m.subs(i,I[j])\n",
    "\n",
    "    k2 = k.subs({s: S[j] + k1*h/2  , i: I[j] + l1*h/2})\n",
    "    l2 = l.subs({s: S[j] + k1*h/2  , i: I[j] + l1*h/2})\n",
    "    m2 = m.subs(i, I[j] + l1*h/2)\n",
    "\n",
    "    k3 = k.subs({s: S[j] + k2*h/2  , i: I[j] + l2*h/2})\n",
    "    l3 = l.subs({s: S[j] + k2*h/2  , i: I[j] + l2*h/2})\n",
    "    m3 = m.subs(i, I[j] + l2*h/2)\n",
    "\n",
    "    k4 = k.subs({s: S[j] + k3*h  , i: I[j] + l3*h})\n",
    "    l4 = l.subs({s: S[j] + k3*h  , i: I[j] + l3*h})\n",
    "    m4 = m.subs(i, I[j] + l3*h)\n",
    "\n",
    "    S[j+1] = S[j] + h*(k1+(2*k2)+(2*k3)+k4)/6\n",
    "    I[j+1] = I[j] + h*(l1+(2*l2)+(2*l3)+l4)/6\n",
    "    R[j+1] = R[j] + h*(m1+(2*m2)+(2*m3)+m4)/6"
   ]
  },
  {
   "cell_type": "code",
   "execution_count": 263,
   "metadata": {},
   "outputs": [
    {
     "data": {
      "image/png": "[encoded data removed]",
      "text/plain": [
       "<Figure size 432x288 with 1 Axes>"
      ]
     },
     "metadata": {
      "needs_background": "light"
     },
     "output_type": "display_data"
    }
   ],
   "source": [
    "#plotting with matplotlib library on the same graph\n",
    "plt.plot(arr,S,color='r', label='S')\n",
    "plt.plot(arr,I,color='g', label='I')\n",
    "plt.plot(arr,R,color='b', label='R')\n",
    "\n",
    "plt.xlabel(\"Days\")\n",
    "plt.ylabel(\"\")\n",
    "plt.title(\"SIR Graph\")\n",
    "plt.legend()\n",
    "plt.show()"
   ]
  },
  {
   "cell_type": "code",
   "execution_count": 264,
   "metadata": {},
   "outputs": [
    {
     "name": "stdout",
     "output_type": "stream",
     "text": [
      "0.3713115988458706 \n",
      " 26\n"
     ]
    }
   ],
   "source": [
    "#maximum I and its position\n",
    "max_I = np.amax(I)\n",
    "print(max_I,'\\n',np.argmax(I))\n"
   ]
  },
  {
   "cell_type": "code",
   "execution_count": 265,
   "metadata": {},
   "outputs": [
    {
     "name": "stdout",
     "output_type": "stream",
     "text": [
      "The Infected poppulation will reach 1% of the maximum infected population after 19.25 day\n"
     ]
    }
   ],
   "source": [
    "#To find  the time duration (from t = 0) for the disease to reach 1% of the maximum I (after crossing the maximum).\n",
    "day = 0 \n",
    "for j in range(27,step):\n",
    "    if I[j] < 0.01*max_I :\n",
    "        day = (j-1)*0.25\n",
    "        break\n",
    "print('The Infected population will reach 1% of the maximum infected population after',day,'day')"
   ]
  },
  {
   "cell_type": "markdown",
   "metadata": {},
   "source": [
    "# END"
   ]
  }
 ],
 "metadata": {
  "kernelspec": {
   "display_name": "Python 3",
   "language": "python",
   "name": "python3"
  },
  "language_info": {
   "codemirror_mode": {
    "name": "ipython",
    "version": 3
   },
   "file_extension": ".py",
   "mimetype": "text/x-python",
   "name": "python",
   "nbconvert_exporter": "python",
   "pygments_lexer": "ipython3",
   "version": "3.8.3"
  }
 },
 "nbformat": 4,
 "nbformat_minor": 4
}
