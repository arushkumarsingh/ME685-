{
 "cells": [
  {
   "cell_type": "markdown",
   "metadata": {},
   "source": [
    "# Program for  Gauss-Seidel method.\n",
    "\n",
    "\n",
    "\n",
    "Given is a nxn matrix A and a nx1 column matrix b "
   ]
  },
  {
   "cell_type": "code",
   "execution_count": 348,
   "metadata": {},
   "outputs": [],
   "source": [
    "#importing libraries \n",
    "import numpy as np\n",
    "import pandas as pd\n",
    "import sys"
   ]
  },
  {
   "cell_type": "code",
   "execution_count": 349,
   "metadata": {},
   "outputs": [],
   "source": [
    "#definition of matrix multiplication from HW1\n",
    "def multiply_matrix(mat1, mat2):\n",
    "    dim1 = mat1.shape;       #dimension of matrix 1 \n",
    "    dim2 = mat2.shape;       #dimension of matrix 2 \n",
    "\n",
    "\n",
    "    #Check whether matrix are multiplicable  if not it will return to command\n",
    "    if dim1[1] != dim2[0]:\n",
    "        print('Matrix is not multiplicable');\n",
    "        sys.exit()\n",
    "\n",
    "\n",
    "    #Creating a ans matrix of length of rows of mat1 x length of column of mat2\n",
    "    mat_ans = np.zeros((dim1[0],dim2[1]))\n",
    "\n",
    "    #Running the loop to with the basic arithmatic logic to multiply two matrices \n",
    "    for i in range(0,dim1[0]):\n",
    "        for k in range(0,dim2[1]):\n",
    "            temp = 0 \n",
    "            for l in range(0,dim2[0]):\n",
    "                temp  = temp + mat1[i][l] * mat2[l][k]\n",
    "            mat_ans[i][k] = temp\n",
    "    return mat_ans"
   ]
  },
  {
   "cell_type": "code",
   "execution_count": 350,
   "metadata": {},
   "outputs": [],
   "source": [
    "#definition for calculating the norm of the matrix ( matA * u - b)\n",
    "def norm(mat1,mat2,mat3):\n",
    "    dim1 = mat1.shape[0]\n",
    "    dim2 = mat3.shape[0]\n",
    "    if dim1 != dim2:                               #Check if matrix A and b are compatible \n",
    "        print('Error in matrix input');\n",
    "        sys.exit()\n",
    "    mat = multiply_matrix(matA,u)  \n",
    "    \n",
    "    #calculating norm with basic arithmatic logic\n",
    "    ans = 0\n",
    "    for j in range(dim1):\n",
    "        ans = ans + abs(mat[j] - mat3[j])         \n",
    "    return ans"
   ]
  },
  {
   "cell_type": "markdown",
   "metadata": {},
   "source": [
    "##  Gauss-Seidel function\n",
    "\n",
    "Important Note:\n",
    "\n",
    "The u matrix is updated for every iteration, so the previous u(k-1) update is done is matrix already, so there is no need to break the correction term for previous updated value and current value of u matrix\n"
   ]
  },
  {
   "cell_type": "code",
   "execution_count": 351,
   "metadata": {},
   "outputs": [],
   "source": [
    "#Function for Gauss Seidel method using basic arithmatic logic \n",
    "#It takes input of the main matrix A, matrix b,dimension n and the guess value\n",
    "\n",
    "def Gau_Sed(matA,matb,u):\n",
    "    n = matA.shape[0]\n",
    "    while norm(matA,u,matb) > 1e-5:       #while function running till the norm converge\n",
    "        \n",
    "        \n",
    "        #basic arithmatic logic for Gauss Siedel method \n",
    "        for i in range(n):\n",
    "            f = 0\n",
    "            for j in range(n):\n",
    "                f = f  + matA[i][j] * u[j][0]\n",
    "            r = matb[i][0] - f\n",
    "            u[i][0] = u[i][0] + r/matA[i][i]\n",
    "            r = 0\n",
    "            print(norm(matA,u,matb))\n",
    "           \n",
    "        \n",
    "        #Check if the matrix in diverging \n",
    "        if norm(matA,u,matb) > 1e10:\n",
    "            break;\n",
    "            print('Oops matrix did not converge');\n",
    "            sys.exit()\n",
    "    return u\n",
    "  "
   ]
  },
  {
   "cell_type": "markdown",
   "metadata": {},
   "source": [
    "### Checking for a test matrix"
   ]
  },
  {
   "cell_type": "code",
   "execution_count": 352,
   "metadata": {},
   "outputs": [
    {
     "data": {
      "text/plain": [
       "array([[10.,  1.,  1.,  1.],\n",
       "       [ 4., -5.,  2.,  2.],\n",
       "       [ 0., -1.,  6., -5.],\n",
       "       [ 1., -2., -2.,  9.]])"
      ]
     },
     "execution_count": 352,
     "metadata": {},
     "output_type": "execute_result"
    }
   ],
   "source": [
    "#import matrix A\n",
    "df1 = pd.read_csv('mat A_test.csv',header = None,dtype = float)\n",
    "matA = np.array(df1)\n",
    "matA"
   ]
  },
  {
   "cell_type": "code",
   "execution_count": 353,
   "metadata": {},
   "outputs": [
    {
     "data": {
      "text/plain": [
       "array([[40.],\n",
       "       [20.],\n",
       "       [36.],\n",
       "       [11.]])"
      ]
     },
     "execution_count": 353,
     "metadata": {},
     "output_type": "execute_result"
    }
   ],
   "source": [
    "#import matrix b \n",
    "df2 = pd.read_csv('mat b_test.csv',header = None,dtype = float)\n",
    "matb = np.array(df2)\n",
    "matb"
   ]
  },
  {
   "cell_type": "code",
   "execution_count": 354,
   "metadata": {},
   "outputs": [
    {
     "data": {
      "text/plain": [
       "4"
      ]
     },
     "execution_count": 354,
     "metadata": {},
     "output_type": "execute_result"
    }
   ],
   "source": [
    "#size of nxn matrix \n",
    "n = matA.shape[0]\n",
    "n"
   ]
  },
  {
   "cell_type": "code",
   "execution_count": 355,
   "metadata": {},
   "outputs": [],
   "source": [
    "if matb.shape[0] != n:\n",
    "    print(\"There is error in matrix input\");\n",
    "    sys.exit()"
   ]
  },
  {
   "cell_type": "code",
   "execution_count": 356,
   "metadata": {},
   "outputs": [],
   "source": [
    "#guess value\n",
    "guess = 50"
   ]
  },
  {
   "cell_type": "code",
   "execution_count": 357,
   "metadata": {},
   "outputs": [
    {
     "data": {
      "text/plain": [
       "array([[50.],\n",
       "       [50.],\n",
       "       [50.],\n",
       "       [50.]])"
      ]
     },
     "execution_count": 357,
     "metadata": {},
     "output_type": "execute_result"
    }
   ],
   "source": [
    "#create the u matrix for storing the guess value\n",
    "#The guess value is same for all variables\n",
    "u = np.full((n,1),guess,dtype = float)  \n",
    "u"
   ]
  },
  {
   "cell_type": "code",
   "execution_count": 358,
   "metadata": {},
   "outputs": [
    {
     "name": "stdout",
     "output_type": "stream",
     "text": [
      "[378.]\n",
      "[309.6]\n",
      "[294.2]\n",
      "[255.48888889]\n",
      "[189.82444444]\n",
      "[182.78088889]\n",
      "[156.68103704]\n",
      "[148.75460082]\n",
      "[95.36380412]\n",
      "[85.03887638]\n",
      "[76.71269158]\n",
      "[72.11166831]\n",
      "[41.88389176]\n",
      "[38.57317939]\n",
      "[34.18720794]\n",
      "[32.21847669]\n",
      "[19.65343711]\n",
      "[17.88478924]\n",
      "[15.94940522]\n",
      "[15.01889352]\n",
      "[8.99398685]\n",
      "[8.21839205]\n",
      "[7.31369984]\n",
      "[6.88880779]\n",
      "[4.15207502]\n",
      "[3.78865564]\n",
      "[3.37400904]\n",
      "[3.17771461]\n",
      "[1.91104608]\n",
      "[1.7446185]\n",
      "[1.55330188]\n",
      "[1.46297694]\n",
      "[0.88048706]\n",
      "[0.80367597]\n",
      "[0.71560334]\n",
      "[0.67398397]\n",
      "[0.40552994]\n",
      "[0.37017339]\n",
      "[0.32959782]\n",
      "[0.31042954]\n",
      "[0.18679901]\n",
      "[0.1705095]\n",
      "[0.15182101]\n",
      "[0.14299145]\n",
      "[0.08604163]\n",
      "[0.07853901]\n",
      "[0.06993061]\n",
      "[0.06586363]\n",
      "[0.03963224]\n",
      "[0.03617633]\n",
      "[0.0322112]\n",
      "[0.03033788]\n",
      "[0.0182552]\n",
      "[0.01666337]\n",
      "[0.01483696]\n",
      "[0.01397408]\n",
      "[0.00840863]\n",
      "[0.00767541]\n",
      "[0.00683414]\n",
      "[0.00643668]\n",
      "[0.00387315]\n",
      "[0.00353541]\n",
      "[0.00314791]\n",
      "[0.00296483]\n",
      "[0.00178403]\n",
      "[0.00162846]\n",
      "[0.00144998]\n",
      "[0.00136565]\n",
      "[0.00082175]\n",
      "[0.0007501]\n",
      "[0.00066788]\n",
      "[0.00062904]\n",
      "[0.00037851]\n",
      "[0.00034551]\n",
      "[0.00030764]\n",
      "[0.00028975]\n",
      "[0.00017435]\n",
      "[0.00015915]\n",
      "[0.0001417]\n",
      "[0.00013346]\n",
      "[8.03075437e-05]\n",
      "[7.33048064e-05]\n",
      "[6.52701624e-05]\n",
      "[6.14742188e-05]\n",
      "[3.69908963e-05]\n",
      "[3.37653272e-05]\n",
      "[3.0064446e-05]\n",
      "[2.83159756e-05]\n",
      "[1.70385787e-05]\n",
      "[1.55528317e-05]\n",
      "[1.38481486e-05]\n",
      "[1.30427761e-05]\n",
      "[7.84823279e-06]\n",
      "[7.16387476e-06]\n",
      "[6.37867135e-06]\n",
      "[6.00770436e-06]\n"
     ]
    },
    {
     "data": {
      "text/plain": [
       "array([[2.30434748],\n",
       "       [3.30434841],\n",
       "       [9.7786568 ],\n",
       "       [3.8735181 ]])"
      ]
     },
     "execution_count": 358,
     "metadata": {},
     "output_type": "execute_result"
    }
   ],
   "source": [
    "Gau_Sed(matA,matb,u)"
   ]
  },
  {
   "cell_type": "code",
   "execution_count": 359,
   "metadata": {},
   "outputs": [
    {
     "data": {
      "text/plain": [
       "array([[2.30434748],\n",
       "       [3.30434841],\n",
       "       [9.7786568 ],\n",
       "       [3.8735181 ]])"
      ]
     },
     "execution_count": 359,
     "metadata": {},
     "output_type": "execute_result"
    }
   ],
   "source": [
    "u "
   ]
  },
  {
   "cell_type": "code",
   "execution_count": 360,
   "metadata": {},
   "outputs": [
    {
     "name": "stdout",
     "output_type": "stream",
     "text": [
      "Solution for the given linear equations are:\n",
      "2.304347484859443\n",
      "3.304348410504691\n",
      "9.778656797018355\n",
      "3.873518103354072\n"
     ]
    }
   ],
   "source": [
    "print('Solution for the given linear equations are:')\n",
    "for i in range(n):\n",
    "    print(u[i][0])"
   ]
  },
  {
   "cell_type": "markdown",
   "metadata": {},
   "source": [
    "## Checking for given matrix"
   ]
  },
  {
   "cell_type": "code",
   "execution_count": 361,
   "metadata": {},
   "outputs": [
    {
     "data": {
      "text/plain": [
       "array([[4., 1., 1., 1.],\n",
       "       [1., 4., 1., 1.],\n",
       "       [1., 1., 4., 1.],\n",
       "       [1., 1., 1., 4.]])"
      ]
     },
     "execution_count": 361,
     "metadata": {},
     "output_type": "execute_result"
    }
   ],
   "source": [
    "#import matrix A\n",
    "df1 = pd.read_csv('mat A_given.csv',header = None,dtype = float)\n",
    "matA = np.array(df1)\n",
    "matA"
   ]
  },
  {
   "cell_type": "code",
   "execution_count": 362,
   "metadata": {},
   "outputs": [
    {
     "data": {
      "text/plain": [
       "array([[7.],\n",
       "       [7.],\n",
       "       [7.],\n",
       "       [7.]])"
      ]
     },
     "execution_count": 362,
     "metadata": {},
     "output_type": "execute_result"
    }
   ],
   "source": [
    "#import matrix b \n",
    "df2 = pd.read_csv('mat b_given.csv',header = None,dtype = float)\n",
    "matb = np.array(df2)\n",
    "matb"
   ]
  },
  {
   "cell_type": "code",
   "execution_count": 363,
   "metadata": {},
   "outputs": [
    {
     "data": {
      "text/plain": [
       "4"
      ]
     },
     "execution_count": 363,
     "metadata": {},
     "output_type": "execute_result"
    }
   ],
   "source": [
    "#size of nxn matrix \n",
    "n = matA.shape[0]\n",
    "n"
   ]
  },
  {
   "cell_type": "code",
   "execution_count": 364,
   "metadata": {},
   "outputs": [],
   "source": [
    "if matb.shape[0] != n:\n",
    "    print(\"There is error in matrix input\");\n",
    "    sys.exit()"
   ]
  },
  {
   "cell_type": "code",
   "execution_count": 365,
   "metadata": {},
   "outputs": [],
   "source": [
    "#guess value\n",
    "guess = 10"
   ]
  },
  {
   "cell_type": "code",
   "execution_count": 366,
   "metadata": {},
   "outputs": [
    {
     "data": {
      "text/plain": [
       "array([[10.],\n",
       "       [10.],\n",
       "       [10.],\n",
       "       [10.]])"
      ]
     },
     "execution_count": 366,
     "metadata": {},
     "output_type": "execute_result"
    }
   ],
   "source": [
    "#create the u matrix for storing the guess value\n",
    "#The guess value is same for all variables\n",
    "u = np.full((n,1),guess,dtype = float)  \n",
    "u"
   ]
  },
  {
   "cell_type": "code",
   "execution_count": 367,
   "metadata": {},
   "outputs": [
    {
     "name": "stdout",
     "output_type": "stream",
     "text": [
      "[141.75]\n",
      "[82.6875]\n",
      "[56.109375]\n",
      "[49.46484375]\n",
      "[15.68847656]\n",
      "[13.51977539]\n",
      "[10.57818604]\n",
      "[5.31504822]\n",
      "[4.66256332]\n",
      "[2.74241924]\n",
      "[2.40946269]\n",
      "[1.03008574]\n",
      "[0.74164112]\n",
      "[0.5951397]\n",
      "[0.27949665]\n",
      "[0.26955473]\n",
      "[0.14132849]\n",
      "[0.12156796]\n",
      "[0.06415201]\n",
      "[0.03649946]\n",
      "[0.0329738]\n",
      "[0.01656685]\n",
      "[0.01533591]\n",
      "[0.00732024]\n",
      "[0.00610808]\n",
      "[0.00381747]\n",
      "[0.00186349]\n",
      "[0.00183781]\n",
      "[0.00093511]\n",
      "[0.0008368]\n",
      "[0.00039129]\n",
      "[0.00029964]\n",
      "[0.00021958]\n",
      "[0.00010983]\n",
      "[0.00010467]\n",
      "[5.10239657e-05]\n",
      "[4.41970169e-05]\n",
      "[2.40674804e-05]\n",
      "[1.41552645e-05]\n",
      "[1.22689003e-05]\n",
      "[6.29982474e-06]\n",
      "[5.81403269e-06]\n",
      "[2.70288102e-06]\n",
      "[2.26230735e-06]\n"
     ]
    },
    {
     "data": {
      "text/plain": [
       "array([[1.00000011],\n",
       "       [1.00000028],\n",
       "       [1.00000004],\n",
       "       [0.99999989]])"
      ]
     },
     "execution_count": 367,
     "metadata": {},
     "output_type": "execute_result"
    }
   ],
   "source": [
    "Gau_Sed(matA,matb,u)"
   ]
  },
  {
   "cell_type": "code",
   "execution_count": 368,
   "metadata": {},
   "outputs": [
    {
     "data": {
      "text/plain": [
       "array([[1.00000011],\n",
       "       [1.00000028],\n",
       "       [1.00000004],\n",
       "       [0.99999989]])"
      ]
     },
     "execution_count": 368,
     "metadata": {},
     "output_type": "execute_result"
    }
   ],
   "source": [
    "u"
   ]
  },
  {
   "cell_type": "code",
   "execution_count": 369,
   "metadata": {},
   "outputs": [
    {
     "name": "stdout",
     "output_type": "stream",
     "text": [
      "Solution for the given linear equations are:\n",
      "1.0000001149280153\n",
      "1.0000002768586993\n",
      "1.000000039128971\n",
      "0.9999998922710787\n"
     ]
    }
   ],
   "source": [
    "print('Solution for the given linear equations are:')\n",
    "for i in range(n):\n",
    "    print(u[i][0])"
   ]
  },
  {
   "cell_type": "markdown",
   "metadata": {},
   "source": [
    "# END"
   ]
  }
 ],
 "metadata": {
  "kernelspec": {
   "display_name": "Python 3",
   "language": "python",
   "name": "python3"
  },
  "language_info": {
   "codemirror_mode": {
    "name": "ipython",
    "version": 3
   },
   "file_extension": ".py",
   "mimetype": "text/x-python",
   "name": "python",
   "nbconvert_exporter": "python",
   "pygments_lexer": "ipython3",
   "version": "3.8.3"
  }
 },
 "nbformat": 4,
 "nbformat_minor": 4
}
