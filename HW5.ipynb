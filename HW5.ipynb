{
 "cells": [
  {
   "cell_type": "markdown",
   "metadata": {},
   "source": [
    "# Program for  Gauss-Seidel method.\n",
    "\n",
    "HW - 5\n",
    "\n",
    "Name: Arush Kumar Singh\n",
    "\n",
    "Roll No: 190182\n",
    "\n"
   ]
  },
  {
   "cell_type": "markdown",
   "metadata": {},
   "source": [
    "## Defining Functions "
   ]
  },
  {
   "cell_type": "code",
   "execution_count": 669,
   "metadata": {},
   "outputs": [],
   "source": [
    "#importing libraries \n",
    "import numpy as np\n",
    "import pandas as pd\n",
    "import sys"
   ]
  },
  {
   "cell_type": "code",
   "execution_count": 670,
   "metadata": {},
   "outputs": [],
   "source": [
    "#definition of matrix multiplication from HW1\n",
    "def multiply_matrix(mat1, mat2):\n",
    "    dim1 = mat1.shape;       #dimension of matrix 1 \n",
    "    dim2 = mat2.shape;       #dimension of matrix 2 \n",
    "\n",
    "\n",
    "    #Check whether matrix are multiplicable  if not it will return to command\n",
    "    if dim1[1] != dim2[0]:\n",
    "        print('Matrix is not multiplicable');\n",
    "        sys.exit()\n",
    "\n",
    "\n",
    "    #Creating a ans matrix of length of rows of mat1 x length of column of mat2\n",
    "    mat_ans = np.zeros((dim1[0],dim2[1]))\n",
    "\n",
    "    #Running the loop to with the basic arithmatic logic to multiply two matrices \n",
    "    for i in range(0,dim1[0]):\n",
    "        for k in range(0,dim2[1]):\n",
    "            temp = 0 \n",
    "            for l in range(0,dim2[0]):\n",
    "                temp  = temp + mat1[i][l] * mat2[l][k]\n",
    "            mat_ans[i][k] = temp\n",
    "    return mat_ans"
   ]
  },
  {
   "cell_type": "code",
   "execution_count": 671,
   "metadata": {},
   "outputs": [],
   "source": [
    "#norm of a mxn matrix\n",
    "def norm(A):\n",
    "    m = A.shape[0]\n",
    "    n = A.shape[1]\n",
    "    sum = 0\n",
    "    for i in range(m):\n",
    "        for j in range(n):\n",
    "            sum = sum + A[i][j]*A[i][j]\n",
    "    sum = pow(sum,0.5)\n",
    "    return sum"
   ]
  },
  {
   "cell_type": "code",
   "execution_count": 672,
   "metadata": {},
   "outputs": [],
   "source": [
    "#determinant of a 3x3 matrix\n",
    "def det(A):\n",
    "    n = A.shape[0]\n",
    "    if n == 2:\n",
    "        return A[0][0]*A[1][1] - A[1][0]*A[0][1]\n",
    "    total = 0\n",
    "    for i in range (n):\n",
    "        dub = np.delete(A,0,0)                                         #removing ith row\n",
    "        dub = np.delete(dub,i,1)                                       #removing ith column\n",
    "        total = total + pow(-1,i)*A[0][i]*det(dub)                     #calculation determinanat from first row\n",
    "    return total\n",
    "        "
   ]
  },
  {
   "cell_type": "code",
   "execution_count": 673,
   "metadata": {},
   "outputs": [],
   "source": [
    "#cramers rule function of a 3 variable linear equation\n",
    "#takes input as main marix and b matrix of Au = b and returns a 3x1 matrix of solution vector u\n",
    "#this code is only valid for nxn A matrix s.t. n <= 3\n",
    "def cramers(matA,v_0):\n",
    "    n = matA.shape[0]\n",
    "    u = np.full((n,1),0,dtype = float) \n",
    "    d = det(matA)\n",
    "    if d == 0 :\n",
    "        print('Unexpected singular matrix');\n",
    "        sys.exit()\n",
    "    for i in range(n):\n",
    "        dx = np.delete(matA,i,1)\n",
    "        dx = np.concatenate((dx, v_0), axis=1)\n",
    "        u[i][0] = pow(-1,i+n-1)*det(dx)/d\n",
    "    return u"
   ]
  },
  {
   "cell_type": "code",
   "execution_count": 674,
   "metadata": {},
   "outputs": [],
   "source": [
    "#calcualte error between two nx1 matrix\n",
    "def error(A,B):\n",
    "    m = A.shape[0]\n",
    "    n = B.shape[0]\n",
    "    if m != n :\n",
    "        print('Error in matrix input');\n",
    "        sys.exit()\n",
    "    u = np.full((n,1),0,dtype = float)  \n",
    "    for i in range(n):\n",
    "        u[i][0] = abs(A[i][0]) - abs(B[i][0])\n",
    "    return norm(u)"
   ]
  },
  {
   "cell_type": "code",
   "execution_count": 675,
   "metadata": {},
   "outputs": [],
   "source": [
    "#Power method function to return the eigen vector correspoinding to largest eigen value\n",
    "#The function takes input as original matrix MatA, the guess matrix v_0 and the maximum error allowed \n",
    "def pow_med(matA,v_0,e):\n",
    "    q = multiply_matrix(matA,v_0)\n",
    "    v_1 = q/norm(q)\n",
    "    while error(v_1,v_0) > e:\n",
    "        v_0 = v_1;\n",
    "        p = multiply_matrix(matA,v_0);\n",
    "        v_1 = p/norm(p);\n",
    "        #print(error(v_1,v_0))\n",
    "    \n",
    "        #Check if the matrix in diverging \n",
    "        if error(v_1,v_0) > 1e10:\n",
    "            break;\n",
    "            print('Oops matrix did not converge');\n",
    "            sys.exit()\n",
    "    #print(v_1)\n",
    "    return v_1"
   ]
  },
  {
   "cell_type": "code",
   "execution_count": 676,
   "metadata": {},
   "outputs": [],
   "source": [
    "#Inverse power method function to return the eigen vector correspoinding to largest eigen value\n",
    "#The function takes input as original matrix MatA, the guess matrix v_0 and the maximum error allowed \n",
    "def inv_pow_med(matA,v_0,e):\n",
    "    q = cramers(matA,v_0)\n",
    "    v_1 = q/norm(q)\n",
    "    while error(v_1,v_0) > e:\n",
    "        v_0 = v_1\n",
    "        p = cramers(matA,v_0)\n",
    "        v_1 = p/norm(p);\n",
    "    return v_1"
   ]
  },
  {
   "cell_type": "markdown",
   "metadata": {},
   "source": [
    "### Checking the functions for a test value \n"
   ]
  },
  {
   "cell_type": "markdown",
   "metadata": {},
   "source": [
    "##### A. For largest eigen value"
   ]
  },
  {
   "cell_type": "code",
   "execution_count": 677,
   "metadata": {},
   "outputs": [
    {
     "data": {
      "text/plain": [
       "array([[7., 3.],\n",
       "       [6., 4.]])"
      ]
     },
     "execution_count": 677,
     "metadata": {},
     "output_type": "execute_result"
    }
   ],
   "source": [
    "#import matrix A\n",
    "df1 = pd.read_csv('mat A_test.csv',header = None,dtype = float)\n",
    "matA = np.array(df1)\n",
    "matA"
   ]
  },
  {
   "cell_type": "code",
   "execution_count": 678,
   "metadata": {},
   "outputs": [
    {
     "data": {
      "text/plain": [
       "1e-08"
      ]
     },
     "execution_count": 678,
     "metadata": {},
     "output_type": "execute_result"
    }
   ],
   "source": [
    "#max error allowed\n",
    "e = 1e-8\n",
    "e"
   ]
  },
  {
   "cell_type": "code",
   "execution_count": 679,
   "metadata": {},
   "outputs": [
    {
     "data": {
      "text/plain": [
       "array([[1],\n",
       "       [0]])"
      ]
     },
     "execution_count": 679,
     "metadata": {},
     "output_type": "execute_result"
    }
   ],
   "source": [
    "#create the u matrix for storing the guess value\n",
    "v_0 = np.array([[1],[0]])\n",
    "#np.full((n,1),guess,dtype = float)  \n",
    "v_0"
   ]
  },
  {
   "cell_type": "code",
   "execution_count": 680,
   "metadata": {},
   "outputs": [
    {
     "data": {
      "text/plain": [
       "array([[0.70710678],\n",
       "       [0.70710678]])"
      ]
     },
     "execution_count": 680,
     "metadata": {},
     "output_type": "execute_result"
    }
   ],
   "source": [
    "#eigen vector corresponding to maximum(in absolute value) eigen value\n",
    "v_1 = pow_med(matA,v_0,e)\n",
    "v_1"
   ]
  },
  {
   "cell_type": "code",
   "execution_count": 681,
   "metadata": {},
   "outputs": [
    {
     "data": {
      "text/plain": [
       "10.000000002250001"
      ]
     },
     "execution_count": 681,
     "metadata": {},
     "output_type": "execute_result"
    }
   ],
   "source": [
    "#maximum(in absolute value) eigen value \n",
    "lembda_1 = norm(multiply_matrix(matA,v_1))/norm(v_1)\n",
    "lembda_1"
   ]
  },
  {
   "cell_type": "markdown",
   "metadata": {},
   "source": [
    "##### B. For smallest eigen value"
   ]
  },
  {
   "cell_type": "code",
   "execution_count": 682,
   "metadata": {},
   "outputs": [
    {
     "data": {
      "text/plain": [
       "array([[1],\n",
       "       [0]])"
      ]
     },
     "execution_count": 682,
     "metadata": {},
     "output_type": "execute_result"
    }
   ],
   "source": [
    "#create the u matrix for storing the guess value\n",
    "v_0 = np.array([[1],[0]])\n",
    "v_0"
   ]
  },
  {
   "cell_type": "code",
   "execution_count": 683,
   "metadata": {},
   "outputs": [
    {
     "data": {
      "text/plain": [
       "array([[ 0.4472136 ],\n",
       "       [-0.89442719]])"
      ]
     },
     "execution_count": 683,
     "metadata": {},
     "output_type": "execute_result"
    }
   ],
   "source": [
    "#Eigen vector corresponding to Minimum(in absolute value) eigen vector\n",
    "v_2 = inv_pow_med(matA,v_0,e)\n",
    "v_2 = v_2/norm(v_2)\n",
    "v_2"
   ]
  },
  {
   "cell_type": "code",
   "execution_count": 684,
   "metadata": {},
   "outputs": [
    {
     "data": {
      "text/plain": [
       "0.99999999964"
      ]
     },
     "execution_count": 684,
     "metadata": {},
     "output_type": "execute_result"
    }
   ],
   "source": [
    "#Minimum(in absolute value) eigen vector\n",
    "lembda_2 = norm(multiply_matrix(matA,v_2))/norm(v_2)\n",
    "lembda_2"
   ]
  },
  {
   "cell_type": "markdown",
   "metadata": {},
   "source": [
    "## Homework problem for Leslie Matrix"
   ]
  },
  {
   "cell_type": "markdown",
   "metadata": {},
   "source": [
    "##### A. For largest eigen value"
   ]
  },
  {
   "cell_type": "code",
   "execution_count": 685,
   "metadata": {},
   "outputs": [
    {
     "data": {
      "text/plain": [
       "array([[0. , 2.3, 0.4],\n",
       "       [0.6, 0. , 0. ],\n",
       "       [0. , 0.3, 0. ]])"
      ]
     },
     "execution_count": 685,
     "metadata": {},
     "output_type": "execute_result"
    }
   ],
   "source": [
    "#import matrix A\n",
    "df1 = pd.read_csv('mat A_given.csv',header = None,dtype = float)\n",
    "matA = np.array(df1)\n",
    "matA"
   ]
  },
  {
   "cell_type": "code",
   "execution_count": 686,
   "metadata": {},
   "outputs": [
    {
     "data": {
      "text/plain": [
       "1e-08"
      ]
     },
     "execution_count": 686,
     "metadata": {},
     "output_type": "execute_result"
    }
   ],
   "source": [
    "#max error allowed\n",
    "e = 1e-8\n",
    "e"
   ]
  },
  {
   "cell_type": "code",
   "execution_count": 687,
   "metadata": {},
   "outputs": [
    {
     "data": {
      "text/plain": [
       "array([[1],\n",
       "       [0],\n",
       "       [0]])"
      ]
     },
     "execution_count": 687,
     "metadata": {},
     "output_type": "execute_result"
    }
   ],
   "source": [
    "#create the u matrix for storing the guess value\n",
    "#The guess value is same for all variables\n",
    "v_0 = np.array([[1],[0],[0]])\n",
    "#np.full((n,1),guess,dtype = float)  \n",
    "v_0"
   ]
  },
  {
   "cell_type": "code",
   "execution_count": 688,
   "metadata": {},
   "outputs": [
    {
     "data": {
      "text/plain": [
       "array([[0.88888889],\n",
       "       [0.44444445],\n",
       "       [0.11111111]])"
      ]
     },
     "execution_count": 688,
     "metadata": {},
     "output_type": "execute_result"
    }
   ],
   "source": [
    "#eigen vector corresponding to maximum(in absolute value) eigen value\n",
    "v_1 = pow_med(matA,v_0,e)\n",
    "v_1"
   ]
  },
  {
   "cell_type": "code",
   "execution_count": 689,
   "metadata": {},
   "outputs": [
    {
     "data": {
      "text/plain": [
       "1.2000000080552766"
      ]
     },
     "execution_count": 689,
     "metadata": {},
     "output_type": "execute_result"
    }
   ],
   "source": [
    "#maximum(in absolute value) eigen value \n",
    "lembda_1 = norm(multiply_matrix(matA,v_1))/norm(v_1)\n",
    "lembda_1"
   ]
  },
  {
   "cell_type": "markdown",
   "metadata": {},
   "source": [
    "##### B. For smallest eigen value"
   ]
  },
  {
   "cell_type": "code",
   "execution_count": 690,
   "metadata": {},
   "outputs": [
    {
     "data": {
      "text/plain": [
       "array([[1],\n",
       "       [0],\n",
       "       [0]])"
      ]
     },
     "execution_count": 690,
     "metadata": {},
     "output_type": "execute_result"
    }
   ],
   "source": [
    "#create the u matrix for storing the guess value\n",
    "v_0 = np.array([[1],[0],[0]])\n",
    "v_0"
   ]
  },
  {
   "cell_type": "code",
   "execution_count": 691,
   "metadata": {},
   "outputs": [
    {
     "data": {
      "text/plain": [
       "array([[-0.01495588],\n",
       "       [ 0.17165196],\n",
       "       [-0.98504412]])"
      ]
     },
     "execution_count": 691,
     "metadata": {},
     "output_type": "execute_result"
    }
   ],
   "source": [
    "#Eigen vector corresponding to Minimum(in absolute value) eigen vector\n",
    "v_2 = inv_pow_med(matA,v_0,e)\n",
    "v_2 = v_2/norm(v_2)\n",
    "v_2"
   ]
  },
  {
   "cell_type": "code",
   "execution_count": 692,
   "metadata": {},
   "outputs": [
    {
     "data": {
      "text/plain": [
       "0.052277442479281205"
      ]
     },
     "execution_count": 692,
     "metadata": {},
     "output_type": "execute_result"
    }
   ],
   "source": [
    "#Minimum(in absolute value) eigen vector\n",
    "lembda_2 = norm(multiply_matrix(matA,v_2))/norm(v_2)\n",
    "lembda_2"
   ]
  },
  {
   "cell_type": "markdown",
   "metadata": {},
   "source": [
    "# END"
   ]
  }
 ],
 "metadata": {
  "kernelspec": {
   "display_name": "Python 3",
   "language": "python",
   "name": "python3"
  },
  "language_info": {
   "codemirror_mode": {
    "name": "ipython",
    "version": 3
   },
   "file_extension": ".py",
   "mimetype": "text/x-python",
   "name": "python",
   "nbconvert_exporter": "python",
   "pygments_lexer": "ipython3",
   "version": "3.8.3"
  }
 },
 "nbformat": 4,
 "nbformat_minor": 4
}
