{
 "cells": [
  {
   "cell_type": "markdown",
   "metadata": {},
   "source": [
    "# Program for   Lagrange Interpolation\n",
    "\n",
    "HW - 6\n",
    "\n",
    "Name: Arush Kumar Singh\n",
    "\n",
    "Roll No: 190182\n",
    "\n"
   ]
  },
  {
   "cell_type": "code",
   "execution_count": 1,
   "metadata": {},
   "outputs": [],
   "source": [
    "#importing libraries \n",
    "import numpy as np\n",
    "import math\n",
    "import sys\n",
    "import sympy as sym\n",
    "from sympy import symbols, exp\n",
    "import matplotlib.pyplot as plt \n",
    "\n",
    "%matplotlib inline\n",
    "\n",
    "#setting precision upto 10 digits\n",
    "np.set_printoptions(precision=10)\n",
    "np.set_printoptions(suppress=True)"
   ]
  },
  {
   "cell_type": "code",
   "execution_count": 2,
   "metadata": {},
   "outputs": [
    {
     "data": {
      "text/latex": [
       "$\\displaystyle \\sin^{2}{\\left(x \\right)}$"
      ],
      "text/plain": [
       "sin(x)**2"
      ]
     },
     "execution_count": 2,
     "metadata": {},
     "output_type": "execute_result"
    }
   ],
   "source": [
    "#input here\n",
    "n = 8                                 #number of points\n",
    "x = symbols('x')\n",
    "y = (sym.sin(x))**2                   #input function\n",
    "y"
   ]
  },
  {
   "cell_type": "code",
   "execution_count": 3,
   "metadata": {},
   "outputs": [],
   "source": [
    "#cratinf array for storing x, y and L values \n",
    "x0 = np.zeros(n,dtype=float)\n",
    "y0 = np.zeros(n)\n",
    "L = np.zeros(n,dtype=object)"
   ]
  },
  {
   "cell_type": "code",
   "execution_count": 4,
   "metadata": {},
   "outputs": [
    {
     "data": {
      "text/plain": [
       "array([0.          , 0.897597901 , 1.7951958021, 2.6927937031,\n",
       "       3.5903916041, 4.4879895051, 5.3855874062, 6.2831853072])"
      ]
     },
     "execution_count": 4,
     "metadata": {},
     "output_type": "execute_result"
    }
   ],
   "source": [
    "#generating 8 equal points between 0 to 2pi\n",
    "dx = (2*math.pi - 0)/(n-1)\n",
    "p = 0\n",
    "for i in range(n):\n",
    "    x0[i] = p\n",
    "    p = p + dx\n",
    "    \n",
    "x0"
   ]
  },
  {
   "cell_type": "code",
   "execution_count": 5,
   "metadata": {},
   "outputs": [
    {
     "data": {
      "text/plain": [
       "array([0.          , 0.611260467 , 0.950484434 , 0.1882550991,\n",
       "       0.1882550991, 0.950484434 , 0.611260467 , 0.          ])"
      ]
     },
     "execution_count": 5,
     "metadata": {},
     "output_type": "execute_result"
    }
   ],
   "source": [
    "#corresponding y values wrt x0\n",
    "for i in range(n):\n",
    "    y0[i] = y.subs(x,x0[i])\n",
    "y0"
   ]
  },
  {
   "cell_type": "code",
   "execution_count": 6,
   "metadata": {},
   "outputs": [
    {
     "data": {
      "text/plain": [
       "array([0.000379383547779588*(1.0 - 1.11408460164327*x)*(x - 6.28318530717959)*(x - 5.38558740615393)*(x - 4.48798950512828)*(x - 3.59039160410262)*(x - 2.69279370307697)*(x - 1.79519580205131),\n",
       "       0.00295865758088622*x*(x - 6.28318530717959)*(x - 5.38558740615393)*(x - 4.48798950512828)*(x - 3.59039160410262)*(x - 2.69279370307697)*(x - 1.79519580205131),\n",
       "       -0.00887597274265866*x*(x - 6.28318530717959)*(x - 5.38558740615393)*(x - 4.48798950512828)*(x - 3.59039160410262)*(x - 2.69279370307697)*(x - 0.897597901025655),\n",
       "       0.0147932879044311*x*(x - 6.28318530717959)*(x - 5.38558740615393)*(x - 4.48798950512828)*(x - 3.59039160410262)*(x - 1.79519580205131)*(x - 0.897597901025655),\n",
       "       -0.0147932879044311*x*(x - 6.28318530717959)*(x - 5.38558740615393)*(x - 4.48798950512828)*(x - 2.69279370307697)*(x - 1.79519580205131)*(x - 0.897597901025655),\n",
       "       0.00887597274265866*x*(x - 6.28318530717959)*(x - 5.38558740615393)*(x - 3.59039160410262)*(x - 2.69279370307697)*(x - 1.79519580205131)*(x - 0.897597901025655),\n",
       "       -0.00295865758088622*x*(x - 6.28318530717959)*(x - 4.48798950512828)*(x - 3.59039160410262)*(x - 2.69279370307697)*(x - 1.79519580205131)*(x - 0.897597901025655),\n",
       "       0.000422665368698031*x*(x - 5.38558740615393)*(x - 4.48798950512828)*(x - 3.59039160410262)*(x - 2.69279370307697)*(x - 1.79519580205131)*(x - 0.897597901025655)],\n",
       "      dtype=object)"
      ]
     },
     "execution_count": 6,
     "metadata": {},
     "output_type": "execute_result"
    }
   ],
   "source": [
    "#Calculating L(i)\n",
    "for i in range(n):\n",
    "    q = 1\n",
    "    for j in range(n):\n",
    "        if i != j:\n",
    "            q = q*(x-x0[j])/(x0[i] - x0[j])\n",
    "    L[i] = q\n",
    "L"
   ]
  },
  {
   "cell_type": "code",
   "execution_count": 7,
   "metadata": {},
   "outputs": [
    {
     "data": {
      "text/latex": [
       "$\\displaystyle x \\left(1.73472347597681 \\cdot 10^{-18} x^{6} + 0.0121013770513452 x^{5} - 0.228105583456957 x^{4} + 1.58659761957388 x^{3} - 4.92902790075981 x^{2} + 6.38688139668238 x - 2.08700187699876\\right)$"
      ],
      "text/plain": [
       "x*(1.73472347597681e-18*x**6 + 0.0121013770513452*x**5 - 0.228105583456957*x**4 + 1.58659761957388*x**3 - 4.92902790075981*x**2 + 6.38688139668238*x - 2.08700187699876)"
      ]
     },
     "execution_count": 7,
     "metadata": {},
     "output_type": "execute_result"
    }
   ],
   "source": [
    "fx = 0\n",
    "for i in range(n):\n",
    "    fx = fx + (y0[i]*L[i])\n",
    "sym.simplify(fx)"
   ]
  },
  {
   "cell_type": "code",
   "execution_count": 8,
   "metadata": {},
   "outputs": [],
   "source": [
    "#taking 200 data points to draw the graph \n",
    "xp = np.zeros(200,dtype=float)\n",
    "dxp = (2*math.pi - 0)/(200-1)\n",
    "xx = 0\n",
    "for i in range(200):\n",
    "    xp[i] = xx\n",
    "    xx = xx + dxp\n",
    "#xp = np.linspace(0,2*math.pi,num = 200)\n",
    "\n",
    "\n",
    "#corresponding y1 and y2 for sine and interpolation curve respt.\n",
    "y1 = np.zeros(200)\n",
    "y2 = np.zeros(200)\n",
    "for i in range(200):\n",
    "    y1[i] = y.subs(x,xp[i])\n",
    "    y2[i] = fx.subs(x,xp[i])\n"
   ]
  },
  {
   "cell_type": "code",
   "execution_count": 9,
   "metadata": {},
   "outputs": [
    {
     "data": {
      "image/png": "[encoded data removed]",
      "text/plain": [
       "<Figure size 432x288 with 1 Axes>"
      ]
     },
     "metadata": {
      "needs_background": "light"
     },
     "output_type": "display_data"
    }
   ],
   "source": [
    "#plotting with matplotlib library on the same graph\n",
    "plt.plot(xp,y1,color='r', label='sin')\n",
    "plt.plot(xp,y2,color='g', label='interpolation')\n",
    "\n",
    "plt.xlabel(\"x\")\n",
    "plt.ylabel(\"y\")\n",
    "plt.title(\"Sine function and its Langrange Interpoaltion\")\n",
    "plt.legend()\n",
    "plt.show()"
   ]
  },
  {
   "cell_type": "code",
   "execution_count": 10,
   "metadata": {},
   "outputs": [
    {
     "name": "stdout",
     "output_type": "stream",
     "text": [
      "Error: 0.0649109294961638\n",
      "Maximum error: 0.25908685173114\n"
     ]
    }
   ],
   "source": [
    "#error calculation \n",
    "error = 0 \n",
    "max_error = 0\n",
    "for i in range(200):\n",
    "    e = abs(y1[i] - y2[i])\n",
    "    error = error + e\n",
    "    if e > max_error:\n",
    "        max_error = e\n",
    "print('Error:' , error/200)\n",
    "print('Maximum error:', max_error)"
   ]
  },
  {
   "cell_type": "markdown",
   "metadata": {},
   "source": [
    "# END"
   ]
  }
 ],
 "metadata": {
  "kernelspec": {
   "display_name": "Python 3",
   "language": "python",
   "name": "python3"
  },
  "language_info": {
   "codemirror_mode": {
    "name": "ipython",
    "version": 3
   },
   "file_extension": ".py",
   "mimetype": "text/x-python",
   "name": "python",
   "nbconvert_exporter": "python",
   "pygments_lexer": "ipython3",
   "version": "3.8.3"
  }
 },
 "nbformat": 4,
 "nbformat_minor": 4
}
