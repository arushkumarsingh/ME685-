{
 "cells": [
  {
   "cell_type": "markdown",
   "metadata": {},
   "source": [
    "##  Program for the naive Gaussian elimination.\n",
    "\n",
    "\n",
    "Given is a nxn matrix A and a nx1 column matrix b "
   ]
  },
  {
   "cell_type": "code",
   "execution_count": 31,
   "metadata": {},
   "outputs": [],
   "source": [
    "#importing libraries \n",
    "import numpy as np\n",
    "import pandas as pd\n",
    "import sys"
   ]
  },
  {
   "cell_type": "code",
   "execution_count": 32,
   "metadata": {},
   "outputs": [
    {
     "data": {
      "text/plain": [
       "array([[ 1.,  1.,  1.,  1.],\n",
       "       [ 4., -5.,  2.,  2.],\n",
       "       [ 7., -1.,  6., -5.],\n",
       "       [ 1., -2., -2.,  9.]])"
      ]
     },
     "execution_count": 32,
     "metadata": {},
     "output_type": "execute_result"
    }
   ],
   "source": [
    "#import matrix A\n",
    "df1 = pd.read_csv('mat A.csv',header = None,dtype = float)\n",
    "matA = np.array(df1)\n",
    "matA"
   ]
  },
  {
   "cell_type": "code",
   "execution_count": 33,
   "metadata": {},
   "outputs": [
    {
     "data": {
      "text/plain": [
       "array([[40.],\n",
       "       [20.],\n",
       "       [36.],\n",
       "       [11.]])"
      ]
     },
     "execution_count": 33,
     "metadata": {},
     "output_type": "execute_result"
    }
   ],
   "source": [
    "#import matrix b \n",
    "df2 = pd.read_csv('mat b.csv',header = None,dtype = float)\n",
    "matb = np.array(df2)\n",
    "matb"
   ]
  },
  {
   "cell_type": "code",
   "execution_count": 34,
   "metadata": {},
   "outputs": [
    {
     "data": {
      "text/plain": [
       "4"
      ]
     },
     "execution_count": 34,
     "metadata": {},
     "output_type": "execute_result"
    }
   ],
   "source": [
    "#size of nxn matrix \n",
    "n = matA.shape[0]\n",
    "n"
   ]
  },
  {
   "cell_type": "code",
   "execution_count": 35,
   "metadata": {},
   "outputs": [],
   "source": [
    "if matb.shape[0] != n:\n",
    "    print(\"There is error in matrix input\");\n",
    "    sys.exit()"
   ]
  },
  {
   "cell_type": "code",
   "execution_count": 36,
   "metadata": {},
   "outputs": [
    {
     "data": {
      "text/plain": [
       "array([[0.],\n",
       "       [0.],\n",
       "       [0.],\n",
       "       [0.]])"
      ]
     },
     "execution_count": 36,
     "metadata": {},
     "output_type": "execute_result"
    }
   ],
   "source": [
    "#create answer matrix to store answer\n",
    "x = np.zeros([n,1])\n",
    "x"
   ]
  },
  {
   "cell_type": "markdown",
   "metadata": {},
   "source": [
    "###  Forward Elimination Starts"
   ]
  },
  {
   "cell_type": "code",
   "execution_count": 37,
   "metadata": {},
   "outputs": [],
   "source": [
    "#forward elimination using basic arithmatic logic \n",
    "for k in range(n-1):\n",
    "    for i in range(k+1,n):\n",
    "        if matA[k][k] == 0:\n",
    "            print(\"This cannot be solved using naive gaussian elimination due to unexpected 0 pivot element\");\n",
    "            sys.exit()\n",
    "        factor = matA[i][k]/matA[k][k]\n",
    "        matb[i][0]  = matb[i][0] - (factor * matb[k][0])\n",
    "        for j in range(k,n):\n",
    "            matA[i][j] = matA[i][j] - (factor * matA[k][j])\n",
    "if matA[n-1][n-1] == 0:\n",
    "    print(\"This cannot be solved using naive gaussian elimination due to unexpected 0 pivot element\");\n",
    "    sys.exit()"
   ]
  },
  {
   "cell_type": "code",
   "execution_count": 38,
   "metadata": {},
   "outputs": [
    {
     "data": {
      "text/plain": [
       "array([[  1.        ,   1.        ,   1.        ,   1.        ],\n",
       "       [  0.        ,  -9.        ,  -2.        ,  -2.        ],\n",
       "       [  0.        ,   0.        ,   0.77777778, -10.22222222],\n",
       "       [  0.        ,   0.        ,   0.        , -22.        ]])"
      ]
     },
     "execution_count": 38,
     "metadata": {},
     "output_type": "execute_result"
    }
   ],
   "source": [
    "matA"
   ]
  },
  {
   "cell_type": "code",
   "execution_count": 39,
   "metadata": {},
   "outputs": [
    {
     "data": {
      "text/plain": [
       "array([[  40.        ],\n",
       "       [-140.        ],\n",
       "       [-119.55555556],\n",
       "       [-341.        ]])"
      ]
     },
     "execution_count": 39,
     "metadata": {},
     "output_type": "execute_result"
    }
   ],
   "source": [
    "matb"
   ]
  },
  {
   "cell_type": "markdown",
   "metadata": {},
   "source": [
    "### Forward Eliminations ends , Back substitution starts"
   ]
  },
  {
   "cell_type": "code",
   "execution_count": 40,
   "metadata": {},
   "outputs": [
    {
     "data": {
      "text/plain": [
       "array([[ 0. ],\n",
       "       [ 0. ],\n",
       "       [ 0. ],\n",
       "       [15.5]])"
      ]
     },
     "execution_count": 40,
     "metadata": {},
     "output_type": "execute_result"
    }
   ],
   "source": [
    "#calculating last variable\n",
    "x[n-1] = matb[n-1]/matA[n-1][n-1]\n",
    "x"
   ]
  },
  {
   "cell_type": "code",
   "execution_count": 41,
   "metadata": {},
   "outputs": [
    {
     "data": {
      "text/plain": [
       "array([[-26.5],\n",
       "       [  1. ],\n",
       "       [ 50. ],\n",
       "       [ 15.5]])"
      ]
     },
     "execution_count": 41,
     "metadata": {},
     "output_type": "execute_result"
    }
   ],
   "source": [
    "#arithmatic logic for back substitution and storing the answer in x \n",
    "for i in reversed(range(0,n-1)):\n",
    "    add = 0;\n",
    "    for j in range(i+1,n):\n",
    "        add = add + matA[i][j]*x[j][0]\n",
    "    x[i][0] = (matb[i][0] - add)/matA[i][i]\n",
    "x"
   ]
  },
  {
   "cell_type": "code",
   "execution_count": 42,
   "metadata": {},
   "outputs": [
    {
     "name": "stdout",
     "output_type": "stream",
     "text": [
      "Solution for the given linear equations are:\n",
      "-26.500000000000014\n",
      "0.9999999999999937\n",
      "50.00000000000002\n",
      "15.500000000000002\n"
     ]
    }
   ],
   "source": [
    "print('Solution for the given linear equations are:')\n",
    "for i in range(n):\n",
    "    print(x[i][0])"
   ]
  },
  {
   "cell_type": "markdown",
   "metadata": {},
   "source": [
    "\n",
    "# Program for given matrix\n",
    "\n",
    "Same code will be repeated by taking \"mat A = mat g\" and \"mat b = mat bg\""
   ]
  },
  {
   "cell_type": "code",
   "execution_count": 13,
   "metadata": {},
   "outputs": [
    {
     "data": {
      "text/plain": [
       "array([[4., 1., 1., 1.],\n",
       "       [1., 4., 1., 1.],\n",
       "       [1., 1., 4., 1.],\n",
       "       [1., 1., 1., 4.]])"
      ]
     },
     "execution_count": 13,
     "metadata": {},
     "output_type": "execute_result"
    }
   ],
   "source": [
    "#import given matrix \"Mat g.csv\"\n",
    "df3 = pd.read_csv('Mat g.csv',header = None,dtype = float)\n",
    "matA = np.array(df3)\n",
    "matA"
   ]
  },
  {
   "cell_type": "code",
   "execution_count": 14,
   "metadata": {},
   "outputs": [
    {
     "data": {
      "text/plain": [
       "array([[7.],\n",
       "       [7.],\n",
       "       [7.],\n",
       "       [7.]])"
      ]
     },
     "execution_count": 14,
     "metadata": {},
     "output_type": "execute_result"
    }
   ],
   "source": [
    "#import matrix b \"Mat bg.csv\"\n",
    "df2 = pd.read_csv('mat bg.csv',header = None,dtype = float)\n",
    "matb = np.array(df2)\n",
    "matb"
   ]
  },
  {
   "cell_type": "code",
   "execution_count": 15,
   "metadata": {},
   "outputs": [
    {
     "data": {
      "text/plain": [
       "4"
      ]
     },
     "execution_count": 15,
     "metadata": {},
     "output_type": "execute_result"
    }
   ],
   "source": [
    "#size of nxn matrix \n",
    "n = matA.shape[0]\n",
    "n"
   ]
  },
  {
   "cell_type": "code",
   "execution_count": 16,
   "metadata": {},
   "outputs": [
    {
     "data": {
      "text/plain": [
       "array([[0.],\n",
       "       [0.],\n",
       "       [0.],\n",
       "       [0.]])"
      ]
     },
     "execution_count": 16,
     "metadata": {},
     "output_type": "execute_result"
    }
   ],
   "source": [
    "#create answer matrix to store answer\n",
    "x = np.zeros([n,1])\n",
    "x"
   ]
  },
  {
   "cell_type": "markdown",
   "metadata": {},
   "source": [
    "### Forward elimination starts"
   ]
  },
  {
   "cell_type": "code",
   "execution_count": 17,
   "metadata": {},
   "outputs": [],
   "source": [
    "#forward elimination using basic arithmatic logic \n",
    "for k in range(n-1):\n",
    "    for i in range(k+1,n):\n",
    "        if matA[k][k] == 0:\n",
    "            print(\"This cannot be solved using naive gaussian elimination due to unexpected 0 pivot element\");\n",
    "            sys.exit()\n",
    "        factor = matA[i][k]/matA[k][k]\n",
    "        matb[i][0]  = matb[i][0] - (factor * matb[k][0])\n",
    "        for j in range(k,n):\n",
    "            matA[i][j] = matA[i][j] - (factor * matA[k][j])\n",
    "if matA[n-1][n-1] == 0:\n",
    "    print(\"This cannot be solved using naive gaussian elimination due to unexpected 0 pivot element\");\n",
    "    sys.exit()\n",
    "\n",
    "    "
   ]
  },
  {
   "cell_type": "code",
   "execution_count": 18,
   "metadata": {},
   "outputs": [
    {
     "data": {
      "text/plain": [
       "array([[4.  , 1.  , 1.  , 1.  ],\n",
       "       [0.  , 3.75, 0.75, 0.75],\n",
       "       [0.  , 0.  , 3.6 , 0.6 ],\n",
       "       [0.  , 0.  , 0.  , 3.5 ]])"
      ]
     },
     "execution_count": 18,
     "metadata": {},
     "output_type": "execute_result"
    }
   ],
   "source": [
    "matA"
   ]
  },
  {
   "cell_type": "code",
   "execution_count": 19,
   "metadata": {},
   "outputs": [
    {
     "data": {
      "text/plain": [
       "array([[7.  ],\n",
       "       [5.25],\n",
       "       [4.2 ],\n",
       "       [3.5 ]])"
      ]
     },
     "execution_count": 19,
     "metadata": {},
     "output_type": "execute_result"
    }
   ],
   "source": [
    "matb"
   ]
  },
  {
   "cell_type": "markdown",
   "metadata": {},
   "source": [
    "### Forward Eliminations ends , Back substitution starts\n"
   ]
  },
  {
   "cell_type": "code",
   "execution_count": 20,
   "metadata": {},
   "outputs": [
    {
     "data": {
      "text/plain": [
       "array([[0.],\n",
       "       [0.],\n",
       "       [0.],\n",
       "       [1.]])"
      ]
     },
     "execution_count": 20,
     "metadata": {},
     "output_type": "execute_result"
    }
   ],
   "source": [
    "x[n-1] = matb[n-1]/matA[n-1][n-1]\n",
    "x\n"
   ]
  },
  {
   "cell_type": "code",
   "execution_count": 21,
   "metadata": {},
   "outputs": [
    {
     "data": {
      "text/plain": [
       "array([[1.],\n",
       "       [1.],\n",
       "       [1.],\n",
       "       [1.]])"
      ]
     },
     "execution_count": 21,
     "metadata": {},
     "output_type": "execute_result"
    }
   ],
   "source": [
    "for i in reversed(range(0,n-1)):\n",
    "    add = 0;\n",
    "    for j in range(i+1,n):\n",
    "        add = add + matA[i][j]*x[j][0]\n",
    "    x[i][0] = (matb[i][0] - add)/matA[i][i]\n",
    "x"
   ]
  },
  {
   "cell_type": "code",
   "execution_count": 22,
   "metadata": {},
   "outputs": [
    {
     "name": "stdout",
     "output_type": "stream",
     "text": [
      "Solution for the given linear equations are:\n",
      "1.0\n",
      "1.0\n",
      "1.0\n",
      "1.0\n"
     ]
    }
   ],
   "source": [
    "print('Solution for the given linear equations are:')\n",
    "for i in range(n):\n",
    "    print(x[i][0])"
   ]
  },
  {
   "cell_type": "markdown",
   "metadata": {},
   "source": [
    "#  END"
   ]
  },
  {
   "cell_type": "code",
   "execution_count": null,
   "metadata": {},
   "outputs": [],
   "source": []
  }
 ],
 "metadata": {
  "kernelspec": {
   "display_name": "Python 3",
   "language": "python",
   "name": "python3"
  },
  "language_info": {
   "codemirror_mode": {
    "name": "ipython",
    "version": 3
   },
   "file_extension": ".py",
   "mimetype": "text/x-python",
   "name": "python",
   "nbconvert_exporter": "python",
   "pygments_lexer": "ipython3",
   "version": "3.8.3"
  }
 },
 "nbformat": 4,
 "nbformat_minor": 4
}
