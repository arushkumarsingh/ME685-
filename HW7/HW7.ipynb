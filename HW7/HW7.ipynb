{
 "cells": [
  {
   "cell_type": "markdown",
   "metadata": {},
   "source": [
    "# Program for HW7\n",
    "\n",
    "HW - 7\n",
    "\n",
    "Name: Arush Kumar Singh\n",
    "\n",
    "Roll No: 190182\n"
   ]
  },
  {
   "cell_type": "code",
   "execution_count": 50,
   "metadata": {},
   "outputs": [],
   "source": [
    "#importing libraries \n",
    "import numpy as np\n",
    "import math\n",
    "import sys\n",
    "import sympy as sym\n",
    "from sympy import symbols, exp\n",
    "import matplotlib.pyplot as plt \n",
    "\n",
    "%matplotlib inline\n",
    "\n",
    "#setting precision upto10 digits\n",
    "np.set_printoptions(precision=10)\n",
    "np.set_printoptions(suppress=True)"
   ]
  },
  {
   "cell_type": "code",
   "execution_count": 51,
   "metadata": {},
   "outputs": [],
   "source": [
    "#initialising variable\n",
    "x = symbols('x')                                       # x coordinate\n",
    "y = symbols('y')                                       # y coordinate\n",
    "f = symbols('f')                                       # function equation\n",
    "rho = symbols('rho')                                   # density\n",
    "xcm = symbols('xcm')                                   # x coordinate of com\n",
    "ycm = symbols('ycm')                                   # y coordinate of com"
   ]
  },
  {
   "cell_type": "code",
   "execution_count": 52,
   "metadata": {},
   "outputs": [
    {
     "data": {
      "text/latex": [
       "$\\displaystyle \\left|{x + y}\\right| + 1$"
      ],
      "text/plain": [
       "Abs(x + y) + 1"
      ]
     },
     "execution_count": 52,
     "metadata": {},
     "output_type": "execute_result"
    }
   ],
   "source": [
    "#input parameters \n",
    "rho =  abs(x+y) + 1 \n",
    "yi = (1 - x**2)**(1/2)\n",
    "h = 0.01\n",
    "a = -1\n",
    "b = 1\n",
    "rho"
   ]
  },
  {
   "cell_type": "code",
   "execution_count": 53,
   "metadata": {},
   "outputs": [],
   "source": [
    "#The function which takes upper and lower value a2 and a2 rept. and creates an array of difference d\n",
    "def linspace(a1,a2,d):\n",
    "    n = int((a2 - a1)/d + 1)\n",
    "    x = np.zeros(n)\n",
    "    for i in range(n-1):\n",
    "        x[i] = a1\n",
    "        a1 = a1 + h\n",
    "    x[n-1] = a2\n",
    "    return x,n"
   ]
  },
  {
   "cell_type": "code",
   "execution_count": 54,
   "metadata": {},
   "outputs": [
    {
     "data": {
      "text/plain": [
       "array([0.          , 0.1410673598, 0.1989974874, 0.2431049156,\n",
       "       0.28        , 0.3122498999, 0.3411744422, 0.367559519 ,\n",
       "       0.3919183588, 0.4146082488, 0.4358898944, 0.4559605246,\n",
       "       0.4749736835, 0.4930517214, 0.5102940329, 0.5267826876,\n",
       "       0.5425863987, 0.5577633907, 0.5723635209, 0.5864298765,\n",
       "       0.6         , 0.6131068422, 0.6257795139, 0.6380438856,\n",
       "       0.6499230724, 0.6614378278, 0.6726068688, 0.683447145 ,\n",
       "       0.6939740629, 0.7042016757, 0.7141428429, 0.7238093672,\n",
       "       0.7332121112, 0.7423610981, 0.7512655988, 0.7599342077,\n",
       "       0.7683749085, 0.7765951326, 0.7846018098, 0.7924014134,\n",
       "       0.8         , 0.807403245 , 0.8146164742, 0.8216446921,\n",
       "       0.8284926071, 0.8351646544, 0.8416650165, 0.8479976415,\n",
       "       0.8541662602, 0.8601744009, 0.8660254038, 0.8717224329,\n",
       "       0.877268488 , 0.8826664149, 0.8879189152, 0.893028555 ,\n",
       "       0.8979977728, 0.9028288874, 0.9075241044, 0.9120855223,\n",
       "       0.916515139 , 0.9208148565, 0.9249864864, 0.929031754 ,\n",
       "       0.9329523032, 0.9367496998, 0.9404254356, 0.943980932 ,\n",
       "       0.9474175426, 0.9507365566, 0.9539392014, 0.9570266454,\n",
       "       0.96        , 0.9628603222, 0.9656086164, 0.9682458366,\n",
       "       0.970772888 , 0.9731906288, 0.9754998719, 0.9777013859,\n",
       "       0.9797958971, 0.9817840903, 0.9836666102, 0.9854440623,\n",
       "       0.9871170143, 0.9886859967, 0.9901515036, 0.9915139938,\n",
       "       0.9927738917, 0.9939315872, 0.9949874371, 0.9959417654,\n",
       "       0.9967948636, 0.9975469914, 0.9981983771, 0.9987492178,\n",
       "       0.9991996797, 0.9995498987, 0.99979998  , 0.9999499987,\n",
       "       1.          , 0.9999499987, 0.99979998  , 0.9995498987,\n",
       "       0.9991996797, 0.9987492178, 0.9981983771, 0.9975469914,\n",
       "       0.9967948636, 0.9959417654, 0.9949874371, 0.9939315872,\n",
       "       0.9927738917, 0.9915139938, 0.9901515036, 0.9886859967,\n",
       "       0.9871170143, 0.9854440623, 0.9836666102, 0.9817840903,\n",
       "       0.9797958971, 0.9777013859, 0.9754998719, 0.9731906288,\n",
       "       0.970772888 , 0.9682458366, 0.9656086164, 0.9628603222,\n",
       "       0.96        , 0.9570266454, 0.9539392014, 0.9507365566,\n",
       "       0.9474175426, 0.943980932 , 0.9404254356, 0.9367496998,\n",
       "       0.9329523032, 0.929031754 , 0.9249864864, 0.9208148565,\n",
       "       0.916515139 , 0.9120855223, 0.9075241044, 0.9028288874,\n",
       "       0.8979977728, 0.893028555 , 0.8879189152, 0.8826664149,\n",
       "       0.877268488 , 0.8717224329, 0.8660254038, 0.8601744009,\n",
       "       0.8541662602, 0.8479976415, 0.8416650165, 0.8351646544,\n",
       "       0.8284926071, 0.8216446921, 0.8146164742, 0.807403245 ,\n",
       "       0.8         , 0.7924014134, 0.7846018098, 0.7765951326,\n",
       "       0.7683749085, 0.7599342077, 0.7512655988, 0.7423610981,\n",
       "       0.7332121112, 0.7238093672, 0.7141428429, 0.7042016757,\n",
       "       0.6939740629, 0.683447145 , 0.6726068688, 0.6614378278,\n",
       "       0.6499230724, 0.6380438856, 0.6257795139, 0.6131068422,\n",
       "       0.6         , 0.5864298765, 0.5723635209, 0.5577633907,\n",
       "       0.5425863987, 0.5267826876, 0.5102940329, 0.4930517214,\n",
       "       0.4749736835, 0.4559605246, 0.4358898944, 0.4146082488,\n",
       "       0.3919183588, 0.367559519 , 0.3411744422, 0.3122498999,\n",
       "       0.28        , 0.2431049156, 0.1989974874, 0.1410673598,\n",
       "       0.          ])"
      ]
     },
     "execution_count": 54,
     "metadata": {},
     "output_type": "execute_result"
    }
   ],
   "source": [
    "#create an array from -1 to 1 of step size h\n",
    "arrx, n = linspace(a,b,h)\n",
    "arry = np.zeros(n,dtype=np.complex128)\n",
    "p = a\n",
    "for i in range(n):\n",
    "    arry[i] = yi.subs(x,p)\n",
    "    p = p + h\n",
    "arry = arry.real\n",
    "arry"
   ]
  },
  {
   "cell_type": "code",
   "execution_count": 55,
   "metadata": {},
   "outputs": [],
   "source": [
    "#function for double integration for the circle which takes input as function ans arry\n",
    "def double_int(f,arry):\n",
    "    \n",
    "    n = arry.shape[0]\n",
    "    sumy = np.zeros(n)\n",
    "    for i in range(n):\n",
    "        y2 = arry[i]\n",
    "        y1 = -y2\n",
    "        arry1,n1 = linspace(y1,y2,h)\n",
    "\n",
    "        for j in range(n1 - 1):\n",
    "\n",
    "            a1 = arry1[j]\n",
    "            b1 = arry1[j+1]\n",
    "            dy = b1-a1\n",
    "            if (type(f) == int) | (type(f) == float):\n",
    "                sumy[i] = sumy[i] + (1+1)*dy/2\n",
    "            else:\n",
    "                sumy[i] = sumy[i] + (f.subs({x:arrx[i], y:arry1[j]})+ f.subs({x:arrx[i], y:arry1[j+1]}))*dy/2           \n",
    "\n",
    "    double_int = 0;                           \n",
    "    for i in range(n-1):\n",
    "        double_int = double_int + (sumy[i] + sumy[i+1])*h/2\n",
    "\n",
    "    return double_int"
   ]
  },
  {
   "cell_type": "code",
   "execution_count": 56,
   "metadata": {},
   "outputs": [
    {
     "data": {
      "text/plain": [
       "3.1404170317790454"
      ]
     },
     "execution_count": 56,
     "metadata": {},
     "output_type": "execute_result"
    }
   ],
   "source": [
    "#calculation for total area of disc\n",
    "area = double_int(1,arry)\n",
    "area"
   ]
  },
  {
   "cell_type": "code",
   "execution_count": 57,
   "metadata": {},
   "outputs": [
    {
     "data": {
      "text/plain": [
       "5.024884136533592"
      ]
     },
     "execution_count": 57,
     "metadata": {},
     "output_type": "execute_result"
    }
   ],
   "source": [
    "#total mass calcuations\n",
    "sumy = np.zeros(n)\n",
    "for i in range(n):\n",
    "    y2 = arry[i]\n",
    "    y1 = -y2\n",
    "    arry1,n1 = linspace(y1,y2,h)\n",
    "    \n",
    "    for j in range(n1 - 1):\n",
    "        \n",
    "        a1 = arry1[j]\n",
    "        b1 = arry1[j+1]\n",
    "        dy = b1-a1\n",
    "        sumy[i] = sumy[i] + (abs(arrx[i]+arry1[j])+1 + abs(arrx[i]+arry1[j+1]) +1 )*dy/2           \n",
    "        \n",
    "double_int = 0;                           \n",
    "for i in range(n-1):\n",
    "    double_int = double_int + (sumy[i] + sumy[i+1])*h/2\n",
    "        \n",
    "mass = double_int\n",
    "mass"
   ]
  },
  {
   "cell_type": "code",
   "execution_count": 58,
   "metadata": {},
   "outputs": [
    {
     "data": {
      "text/plain": [
       "1.600069062702477"
      ]
     },
     "execution_count": 58,
     "metadata": {},
     "output_type": "execute_result"
    }
   ],
   "source": [
    "#Average density\n",
    "avg_den = mass/area\n",
    "avg_den"
   ]
  },
  {
   "cell_type": "code",
   "execution_count": 59,
   "metadata": {},
   "outputs": [
    {
     "data": {
      "text/plain": [
       "-4.781882523970222e-08"
      ]
     },
     "execution_count": 59,
     "metadata": {},
     "output_type": "execute_result"
    }
   ],
   "source": [
    "#x centre of mass calculations\n",
    "sumy = np.zeros(n)\n",
    "for i in range(n):\n",
    "    y2 = arry[i]\n",
    "    y1 = -y2\n",
    "    arry1,n1 = linspace(y1,y2,h)\n",
    "    \n",
    "    for j in range(n1 - 1):\n",
    "        \n",
    "        a1 = arry1[j]\n",
    "        b1 = arry1[j+1]\n",
    "        dy = b1-a1\n",
    "        sumy[i] = sumy[i] + ((abs(arrx[i]+arry1[j])+1)*arrx[i] + (abs(arrx[i]+arry1[j+1]) +1 )*arrx[i])*dy/2           \n",
    "        \n",
    "double_int = 0;                           \n",
    "for i in range(n-1):\n",
    "    double_int = double_int + (sumy[i] + sumy[i+1])*h/2\n",
    "        \n",
    "xcm = double_int/mass\n",
    "xcm"
   ]
  },
  {
   "cell_type": "code",
   "execution_count": 60,
   "metadata": {},
   "outputs": [
    {
     "data": {
      "text/plain": [
       "1.643235463701611e-07"
      ]
     },
     "execution_count": 60,
     "metadata": {},
     "output_type": "execute_result"
    }
   ],
   "source": [
    "sumy = np.zeros(n)\n",
    "for i in range(n):\n",
    "    y2 = arry[i]\n",
    "    y1 = -y2\n",
    "    arry1,n1 = linspace(y1,y2,h)\n",
    "    \n",
    "    for j in range(n1 - 1):\n",
    "        \n",
    "        a1 = arry1[j]\n",
    "        b1 = arry1[j+1]\n",
    "        dy = b1-a1\n",
    "        sumy[i] = sumy[i] + ((abs(arrx[i]+arry1[j])+1)*arry1[j] + (abs(arrx[i]+arry1[j+1]) +1 )*arry1[j+1])*dy/2           \n",
    "        \n",
    "double_int = 0;                           \n",
    "for i in range(n-1):\n",
    "    double_int = double_int + (sumy[i] + sumy[i+1])*h/2\n",
    "        \n",
    "ycm = double_int/mass\n",
    "ycm"
   ]
  },
  {
   "cell_type": "markdown",
   "metadata": {},
   "source": [
    "# End"
   ]
  }
 ],
 "metadata": {
  "kernelspec": {
   "display_name": "Python 3",
   "language": "python",
   "name": "python3"
  },
  "language_info": {
   "codemirror_mode": {
    "name": "ipython",
    "version": 3
   },
   "file_extension": ".py",
   "mimetype": "text/x-python",
   "name": "python",
   "nbconvert_exporter": "python",
   "pygments_lexer": "ipython3",
   "version": "3.8.3"
  }
 },
 "nbformat": 4,
 "nbformat_minor": 4
}
